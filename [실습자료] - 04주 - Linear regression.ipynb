{
 "cells": [
  {
   "cell_type": "code",
   "execution_count": 4,
   "metadata": {
    "scrolled": false
   },
   "outputs": [],
   "source": [
    "import tensorflow as tf\n",
    "import random"
   ]
  },
  {
   "cell_type": "code",
   "execution_count": 5,
   "metadata": {},
   "outputs": [],
   "source": [
    "x_train = [1, 2, 3]\n",
    "y_train = [1, 2, 3]"
   ]
  },
  {
   "cell_type": "code",
   "execution_count": 6,
   "metadata": {},
   "outputs": [],
   "source": [
    "# Try to find value for W and b to compute y_data = x_data * W + b  \n",
    "# We know that W should be 1 and b should be 0\n",
    "# But let's TensorFlow figure it out \n",
    "W = tf.Variable(tf.random_normal([1]), name='weight')\n",
    "b = tf.Variable(tf.random_normal([1]), name='bias')"
   ]
  },
  {
   "cell_type": "code",
   "execution_count": 7,
   "metadata": {},
   "outputs": [],
   "source": [
    "# Out hypothesis XW+b\n",
    "hypothesis = x_train * W + b\n",
    "\n",
    "# cost/loss function\n",
    "cost = tf.reduce_mean(tf.square(hypothesis - y_train))"
   ]
  },
  {
   "cell_type": "code",
   "execution_count": 8,
   "metadata": {},
   "outputs": [],
   "source": [
    "optimizer = tf.train.GradientDescentOptimizer(learning_rate=0.01)\n",
    "train = optimizer.minimize(cost)"
   ]
  },
  {
   "cell_type": "code",
   "execution_count": 9,
   "metadata": {},
   "outputs": [],
   "source": [
    "# Launch the graph in a session.\n",
    "sess = tf.Session()\n",
    "# Initializes global variables in the graph.\n",
    "sess.run(tf.global_variables_initializer())"
   ]
  },
  {
   "cell_type": "code",
   "execution_count": 10,
   "metadata": {},
   "outputs": [
    {
     "name": "stdout",
     "output_type": "stream",
     "text": [
      "0 2.0047398 [0.68950915] [2.0139892]\n",
      "200 0.17785466 [0.51018894] [1.1134557]\n",
      "400 0.06791362 [0.6973265] [0.6880481]\n",
      "600 0.025932789 [0.81296605] [0.42517215]\n",
      "800 0.0099024 [0.8844244] [0.26273054]\n",
      "1000 0.0037812183 [0.92858124] [0.16235149]\n",
      "1200 0.0014438619 [0.9558675] [0.10032351]\n",
      "1400 0.00055133743 [0.9727288] [0.06199384]\n",
      "1600 0.00021052656 [0.9831481] [0.0383084]\n",
      "1800 8.038912e-05 [0.9895864] [0.02367227]\n",
      "2000 3.069654e-05 [0.99356514] [0.01462799]\n",
      "2200 1.1721305e-05 [0.99602365] [0.00903922]\n",
      "2400 4.475791e-06 [0.99754286] [0.00558572]\n",
      "2600 1.7091493e-06 [0.9984816] [0.00345169]\n",
      "2800 6.526772e-07 [0.9990616] [0.00213305]\n",
      "3000 2.493847e-07 [0.99942005] [0.00131833]\n",
      "3200 9.524484e-08 [0.99964154] [0.00081494]\n",
      "3400 3.64625e-08 [0.99977815] [0.00050403]\n",
      "3600 1.3964097e-08 [0.99986285] [0.0003119]\n",
      "3800 5.346166e-09 [0.99991506] [0.00019309]\n",
      "4000 2.0601998e-09 [0.99994713] [0.00011977]\n"
     ]
    }
   ],
   "source": [
    "for step in range(4001):\n",
    "    sess.run(train)\n",
    "    if step % 200 == 0:\n",
    "        print(step, sess.run(cost), sess.run(W), sess.run(b))"
   ]
  },
  {
   "cell_type": "code",
   "execution_count": 1,
   "metadata": {},
   "outputs": [
    {
     "name": "stdout",
     "output_type": "stream",
     "text": [
      "hello\n"
     ]
    }
   ],
   "source": [
    "print(\"hello\")"
   ]
  },
  {
   "cell_type": "code",
   "execution_count": 1,
   "metadata": {},
   "outputs": [
    {
     "name": "stdout",
     "output_type": "stream",
     "text": [
      "helloworld\n"
     ]
    }
   ],
   "source": [
    "print(\"helloworld\")"
   ]
  }
 ],
 "metadata": {
  "kernelspec": {
   "display_name": "Python 3",
   "language": "python",
   "name": "python3"
  },
  "language_info": {
   "codemirror_mode": {
    "name": "ipython",
    "version": 3
   },
   "file_extension": ".py",
   "mimetype": "text/x-python",
   "name": "python",
   "nbconvert_exporter": "python",
   "pygments_lexer": "ipython3",
   "version": "3.8.5"
  },
  "toc": {
   "base_numbering": 1,
   "nav_menu": {},
   "number_sections": true,
   "sideBar": true,
   "skip_h1_title": false,
   "title_cell": "Table of Contents",
   "title_sidebar": "Contents",
   "toc_cell": false,
   "toc_position": {},
   "toc_section_display": true,
   "toc_window_display": false
  }
 },
 "nbformat": 4,
 "nbformat_minor": 4
}
